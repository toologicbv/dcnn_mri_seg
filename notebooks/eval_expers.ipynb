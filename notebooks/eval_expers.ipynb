{
 "cells": [
  {
   "cell_type": "code",
   "execution_count": 1,
   "metadata": {},
   "outputs": [],
   "source": [
    "\n",
    "from __future__ import print_function\n",
    "\n",
    "import sys\n",
    "import socket\n",
    "\n",
    "hostname = socket.gethostname()\n",
    "\n",
    "if hostname == 'toologic-ubuntu2':\n",
    "    sys.path.extend(['/home/jogi/git/repository/dcnn_mri_seg'])\n",
    "elif hostname == 'qiaubuntu':\n",
    "    sys.path.extend(['/home/jorg/repository/dcnn_mri_seg'])\n",
    "else:\n",
    "    raise ValueError(\"Unknown hostname {}\".format(hostname))\n",
    "\n",
    "import matplotlib\n",
    "import matplotlib.pyplot as plt\n",
    "\n",
    "from matplotlib import cm\n",
    "\n",
    "\n",
    "from datetime import datetime\n",
    "from pytz import timezone\n",
    "import itertools\n",
    "import copy\n",
    "\n",
    "import SimpleITK as sitk\n",
    "import numpy as np\n",
    "import torch\n",
    "from torch.autograd import Variable\n",
    "import torch.nn as nn\n",
    "import torch.nn.functional as F\n",
    "import torch.optim as optim\n",
    "from torch.nn import init\n",
    "\n",
    "import numpy as np\n",
    "import dill\n",
    "import os\n",
    "import glob\n",
    "from collections import OrderedDict\n",
    "\n",
    "from in_out.load_data import HVSMR2016CardiacMRI\n",
    "from utils.config import config, BaseConfig\n",
    "from utils.experiment import Experiment, ExperimentHandler\n",
    "from utils.batch_handlers import TwoDimBatchHandler, TestHandler\n",
    "\n",
    "from models.dilated_cnn import BaseDilated2DCNN\n",
    "\n",
    "from jelmer_util.helper import loadImageDir, generateBatch2D\n",
    "\n",
    "%matplotlib inline\n",
    "%load_ext autoreload\n",
    "%autoreload 2"
   ]
  },
  {
   "cell_type": "code",
   "execution_count": 2,
   "metadata": {},
   "outputs": [
    {
     "name": "stdout",
     "output_type": "stream",
     "text": [
      ">>>>>>>>>>>> Info - Looking for files with search_mask /home/jorg/repository/dcnn_mri_seg/data/HVSMR2016/train/aug_*.npz\n",
      "Info - cannot find any numpy npz files. Looking for raw files...\n",
      "> > > Loading image+label from /home/jorg/repository/dcnn_mri_seg/data/HVSMR2016/train/0_image.nii\n",
      "/home/jorg/repository/dcnn_mri_seg/data/HVSMR2016/train/0_image.nii / /home/jorg/repository/dcnn_mri_seg/data/HVSMR2016/train/0_label.nii\n",
      "> > > Loading image+label from /home/jorg/repository/dcnn_mri_seg/data/HVSMR2016/test/9_image.nii\n"
     ]
    }
   ],
   "source": [
    "dataset = HVSMR2016CardiacMRI(data_dir=config.data_dir,\n",
    "                                  search_mask=config.dflt_image_name + \".nii\",\n",
    "                                  norm_scale=config.norm_method, load_type=\"numpy\",\n",
    "                                  val_fold=1)\n",
    "dataset.get_test_image()"
   ]
  },
  {
   "cell_type": "code",
   "execution_count": 3,
   "metadata": {},
   "outputs": [
    {
     "name": "stdout",
     "output_type": "stream",
     "text": [
      "Load from /home/jorg/repository/dcnn_mri_seg/logs/20180201_08_58_03_dcnnv1_5000E_lr1e03/stats/exper_stats@5000.dll\n"
     ]
    },
    {
     "name": "stderr",
     "output_type": "stream",
     "text": [
      "INFO - INFO - loaded existing model from checkpoint /home/jorg/repository/dcnn_mri_seg/logs/20180201_08_58_03_dcnnv1_5000E_lr1e03/checkpoints/BaseDilated2DCNNcheckpoint05000.pth.tar\n"
     ]
    }
   ],
   "source": [
    "exper = ExperimentHandler.load_experiment(\"20180201_08_58_03_dcnnv1_5000E_lr1e03/stats/exper_stats@5000.dll\")\n",
    "new_config = BaseConfig()\n",
    "new_config.copy_from_object(exper.config)\n",
    "new_config.root_dir = os.environ.get(\"REPO_PATH\")\n",
    "exper.set_new_config(new_config)\n",
    "exper_hdl = ExperimentHandler(exper)\n",
    "model = exper_hdl.load_checkpoint(root_dir=\"/home/jorg/repository/dcnn_mri_seg/\", checkpoint=5000)"
   ]
  },
  {
   "cell_type": "code",
   "execution_count": 19,
   "metadata": {},
   "outputs": [
    {
     "name": "stdout",
     "output_type": "stream",
     "text": [
      "INFO - Be patient - Generating overlays for axial view\n",
      "('Image shape in/out ', (193, 272, 209), (209, 3, 193, 272), 'axial')\n",
      "INFO - Generating overlays took 7.420 seconds \n",
      "INFO - Be patient - Generating overlays for coronal view\n",
      "('Image shape in/out ', (193, 272, 209), (272, 3, 193, 209), 'coronal')\n",
      "INFO - Generating overlays took 7.562 seconds \n",
      "INFO - Be patient - Generating overlays for saggital view\n",
      "('Image shape in/out ', (193, 272, 209), (193, 3, 272, 209), 'saggital')\n",
      "INFO - Generating overlays took 7.015 seconds \n",
      "[0 1 2]\n",
      "('In method get_pred_class_labels, shape of input ', (3, 193, 272, 209))\n",
      "Successfully saved image to /home/jorg/repository/dcnn_mri_seg/logs/20180201_08_58_03_dcnnv1_5000E_lr1e03/figures/test_myocardium.nii\n",
      "Successfully saved image to /home/jorg/repository/dcnn_mri_seg/logs/20180201_08_58_03_dcnnv1_5000E_lr1e03/figures/test_bloodpool.nii\n",
      "('Full image out shape ', (3, 209, 272, 193))\n",
      "Successfully saved image to /home/jorg/repository/dcnn_mri_seg/logs/20180201_08_58_03_dcnnv1_5000E_lr1e03/figures/test_full_img.nii\n"
     ]
    }
   ],
   "source": [
    "exper_hdl.test_full_image(model, dataset.test_images[0], batch_size=5, spacing=dataset.test_spacings[0],\n",
    "                          views=None, labels=None, gen_overlays=True)"
   ]
  },
  {
   "cell_type": "code",
   "execution_count": 14,
   "metadata": {
    "collapsed": true
   },
   "outputs": [],
   "source": [
    "del test_handler"
   ]
  }
 ],
 "metadata": {
  "kernelspec": {
   "display_name": "Python 2",
   "language": "python",
   "name": "python2"
  },
  "language_info": {
   "codemirror_mode": {
    "name": "ipython",
    "version": 2
   },
   "file_extension": ".py",
   "mimetype": "text/x-python",
   "name": "python",
   "nbconvert_exporter": "python",
   "pygments_lexer": "ipython2",
   "version": "2.7.14"
  }
 },
 "nbformat": 4,
 "nbformat_minor": 2
}
